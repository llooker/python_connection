{
 "cells": [
  {
   "cell_type": "markdown",
   "metadata": {
    "deletable": true,
    "editable": true
   },
   "source": [
    "# Initialize Classes\n",
    "\n",
    "Initialize classes and libraries that maybe used in the script"
   ]
  },
  {
   "cell_type": "code",
   "execution_count": null,
   "metadata": {
    "collapsed": false,
    "deletable": true,
    "editable": true
   },
   "outputs": [],
   "source": [
    "import requests, json, logging, time, urllib\n",
    "import pandas as pd\n",
    "from io import StringIO\n",
    "import io as stringIOModule\n",
    "from datetime import datetime"
   ]
  },
  {
   "cell_type": "code",
   "execution_count": null,
   "metadata": {
    "collapsed": true,
    "deletable": true,
    "editable": true
   },
   "outputs": [],
   "source": [
    "# Set up logging to catch errors, etc...\n",
    "\n",
    "logger = logging.getLogger(__name__)\n",
    "logger.setLevel(logging.INFO)\n",
    "handler = logging.FileHandler(str(time.strftime(\"%d_%m_%Y\")) +\"_looker_API_Calls\" + \".log\")\n",
    "handler.setLevel(logging.INFO)\n",
    "formatter = logging.Formatter('%(asctime)s - %(name)s - %(levelname)s - %(message)s')\n",
    "handler.setFormatter(formatter)\n",
    "logger.addHandler(handler)\n",
    "logger.info('Testing Logs')"
   ]
  },
  {
   "cell_type": "markdown",
   "metadata": {
    "deletable": true,
    "editable": true
   },
   "source": [
    "# Configure Credentials \n",
    "\n",
    "\n",
    "For the purpose of this exercise, we made the credentials available in this python notebook... \n",
    "\n",
    "\n",
    "In a production environment, you could setup credentials in a seperate file called looker-config and read in credentials here. \n",
    "Sample credentails might look like the following: \n",
    "#### Connecting to the Looker API \n",
    "[looker-creds]<br/>\n",
    "api_endpoint: https://<instance>.looker.com:19999/api/3.0 <br/>\n",
    "login_url: https://<instance>.looker.com:19999/login <br/>\n",
    "client_id: <Client ID> <br/>\n",
    "client_secret: <Secret key> <br/>\n",
    "\n",
    "#### Connecting to a Database\n",
    "Example creds for Redshift might look like this: <br/>\n",
    "[redshift] <br/>\n",
    "username: my_username <br/>\n",
    "password: my_pwd <br/>\n",
    "host_name: my_hostname <br/>\n",
    "port: port_num <br/>\n",
    "db_name: my_dbname <br/>"
   ]
  },
  {
   "cell_type": "markdown",
   "metadata": {
    "collapsed": true,
    "deletable": true,
    "editable": true
   },
   "source": [
    "# Connect to Looker\n",
    "LookerAPI class contains information on connecting to Looker via the API. \n",
    "\n",
    "The calls available via this api class allow you to \n",
    "1. Establish a connection to the API \n",
    "2. Get Look Results (run_look)\n",
    "3. Get Query Results based on Query ID (qid) (run_query)\n",
    "4. Get Query Results based on Query Slug (run_query_slug)"
   ]
  },
  {
   "cell_type": "code",
   "execution_count": null,
   "metadata": {
    "collapsed": false,
    "deletable": true,
    "editable": true
   },
   "outputs": [],
   "source": [
    "class LookerAPI(object):\n",
    "    \"\"\"Class that contains methods and variables related to looker API authentication\"\"\"\n",
    "    def __init__(self, api_info):\n",
    "        self.api_endpoint = api_info['api_endpoint']\n",
    "        self.client_secret = api_info['client_secret']\n",
    "        self.client_id = api_info['client_id']\n",
    "        self.login_endpoint = api_info['login_url']\n",
    "        print(self.login_endpoint)\n",
    "        \n",
    "    def login(self):\n",
    "        \"login to looker API\"\n",
    "        try:\n",
    "            auth_data = {'client_id':self.client_id, 'client_secret':self.client_secret}\n",
    "            r = requests.post( self.login_endpoint,data=auth_data) # error handle here\n",
    "            json_auth = json.loads(r.text)['access_token']\n",
    "            return json_auth\n",
    "        except requests.exceptions.RequestException as e:\n",
    "            logger.error(e)\n",
    "\n",
    "    def run_look(self, look_id, json_auth,return_format='csv'):\n",
    "        \"run looks\"\n",
    "        try:\n",
    "            look_run_url = self.api_endpoint + '/looks/{0}/run/{1}'.format(look_id,return_format)\n",
    "            #r = requests.get(look_run_url, headers={'Authorization': \"token \" + json_auth})\n",
    "            r = requests.get(look_run_url + '?' + 'access_token=' + json_auth)\n",
    "            return r.text\n",
    "        except requests.exceptions.RequestException as e:\n",
    "            logger.error(e)\n",
    "            \n",
    "    def run_query(self, query_id, json_auth, return_format='csv'):\n",
    "        \"run query\"\n",
    "        try:\n",
    "            query_run_url = self.api_endpoint + '/queries/{0}/run/{1}'.format(query_id,return_format)\n",
    "            #r = requests.get(query_run_url, headers={'Authorization': \"token \" + json_auth})\n",
    "            r = requests.get(query_run_url + '?' + 'access_token=' + json_auth)\n",
    "            return r.text\n",
    "        except requests.exceptions.RequestException as e:\n",
    "            logger.error(e)\n",
    "            \n",
    "    def run_query_slug(self, query_slug, json_auth):\n",
    "        \"run query\"\n",
    "        try:\n",
    "            query_slug_run_url = self.api_endpoint + '/queries/slug/{0}'.format(query_slug)\n",
    "            #r = requests.get(query_run_url, headers={'Authorization': \"token \" + json_auth})\n",
    "            r = requests.get(query_slug_run_url + '?' + 'access_token=' + json_auth)\n",
    "            qid=json.loads(r.text)[\"id\"]\n",
    "            print(\"Query_id: \" + str(qid))\n",
    "            return LookerAPI.run_query(self, qid, json_auth)\n",
    "        except requests.exceptions.RequestException as e:\n",
    "            logger.error(e)"
   ]
  },
  {
   "cell_type": "markdown",
   "metadata": {
    "deletable": true,
    "editable": true
   },
   "source": [
    "## Test  LookerAPI calls \n",
    "\n",
    "Test out API calls on the demonew looker instance! Modify the look ID, Query ID,  or the Query Slug you'd like results from. \n",
    "\n",
    "In order to make an API Call, first establish a connection with the Looker Application. Establishing a connection returns a token, that will be used in any subsequent API calls. "
   ]
  },
  {
   "cell_type": "code",
   "execution_count": 8,
   "metadata": {
    "collapsed": false,
    "deletable": true,
    "editable": true,
    "scrolled": true
   },
   "outputs": [
    {
     "ename": "SyntaxError",
     "evalue": "invalid syntax (<ipython-input-8-2a201803f002>, line 18)",
     "output_type": "error",
     "traceback": [
      "\u001b[0;36m  File \u001b[0;32m\"<ipython-input-8-2a201803f002>\"\u001b[0;36m, line \u001b[0;32m18\u001b[0m\n\u001b[0;31m    look_response = demo.run_look(<MY_LOOK_ID>,json_auth)\u001b[0m\n\u001b[0m                                  ^\u001b[0m\n\u001b[0;31mSyntaxError\u001b[0m\u001b[0;31m:\u001b[0m invalid syntax\n"
     ]
    }
   ],
   "source": [
    "# Set API Credentials for Your Look Instance\n",
    "\n",
    "creds = {\n",
    "    'api_endpoint' : 'https://<MY_INSTANCE>.looker.com:19999/api/3.0',\n",
    "    'login_url': 'https://<MY_INSTANCE>.looker.com:19999/login',\n",
    "    'client_id' : '<MY_ID>', \n",
    "    'client_secret': '<MY_SECRET>'\n",
    "}\n",
    "\n",
    "demo = LookerAPI(creds)\n",
    "\n",
    "# Login to Instance - Return token to be used in subsequent calls.\n",
    "json_auth = demo.login()\n",
    "\n",
    "print('Token: ' + json_auth)\n",
    "\n",
    "# Get Results of Look and Query ID (QID)\n",
    "look_response = demo.run_look(<MY_LOOK_ID>,json_auth)\n",
    "print(look_response)\n",
    "\n",
    "query_response = demo.run_query(<MY_QUERY_ID>, json_auth)\n",
    "print(query_response)\n",
    "\n",
    "# # Get Results of Look by passing in the Query Slug. The slug can be found in the URL of any Looker Explore page. \n",
    "query_response = demo.run_query_slug(\"<MY_QUERY_SLUG>\", json_auth)\n",
    "print(query_response)\n",
    "\n",
    "# Convert Query Response from CSV to a dateframe\n",
    "records = pd.read_csv(StringIO(query_response))\n",
    "records.head(5)\n"
   ]
  },
  {
   "cell_type": "markdown",
   "metadata": {
    "collapsed": true,
    "deletable": true,
    "editable": true
   },
   "source": [
    "We've sucessfully established a connection to Looker that allows us to pull in modeled data from the Looker explore page or a saved look. "
   ]
  }
 ],
 "metadata": {
  "anaconda-cloud": {},
  "kernelspec": {
   "display_name": "Python 2",
   "language": "python",
   "name": "python2"
  },
  "language_info": {
   "codemirror_mode": {
    "name": "ipython",
    "version": 2
   },
   "file_extension": ".py",
   "mimetype": "text/x-python",
   "name": "python",
   "nbconvert_exporter": "python",
   "pygments_lexer": "ipython2",
   "version": "2.7.6"
  }
 },
 "nbformat": 4,
 "nbformat_minor": 1
}
